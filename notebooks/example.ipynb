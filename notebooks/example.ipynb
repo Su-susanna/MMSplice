{
 "cells": [
  {
   "cell_type": "markdown",
   "metadata": {},
   "source": [
    "# Example code to apply the modular splicing model"
   ]
  },
  {
   "cell_type": "markdown",
   "metadata": {},
   "source": [
    "Example test variants come from ClinVar BRCA1 variants"
   ]
  },
  {
   "cell_type": "markdown",
   "metadata": {},
   "source": [
    "## Splicing delta PSI prediction"
   ]
  },
  {
   "cell_type": "code",
   "execution_count": 12,
   "metadata": {},
   "outputs": [],
   "source": [
    "from mmsplice.vcf_dataloader import SplicingVCFDataloader\n",
    "from mmsplice import MMSplice, predict_all_table, predict_save\n",
    "from mmsplice.utils import max_varEff"
   ]
  },
  {
   "cell_type": "code",
   "execution_count": 2,
   "metadata": {},
   "outputs": [],
   "source": [
    "gtf = '../tests/data/test.gtf'\n",
    "vcf = '../tests/data/test.vcf.gz'\n",
    "fasta = '../tests/data/hg19.nochr.chr17.fa'"
   ]
  },
  {
   "cell_type": "code",
   "execution_count": 3,
   "metadata": {
    "scrolled": false
   },
   "outputs": [],
   "source": [
    "dl = SplicingVCFDataloader(gtf, fasta, vcf, encode=False, split_seq=True)"
   ]
  },
  {
   "cell_type": "code",
   "execution_count": 4,
   "metadata": {
    "scrolled": false
   },
   "outputs": [
    {
     "data": {
      "text/plain": [
       "{'inputs': {'seq': {'acceptor_intron': 'CCTAAGAACTCATACAACCAGGACCCTGGAGTCGATTGATTAGAGCCTAGTCCAGGAGAATGAATTGACACTAATCTCTGCTTGTGTTCTCTGT',\n",
       "   'acceptor': 'TCCAGGAGAATGAATTGACACTAATCTCTGCTTGTGTTCTCTGTCTCCAGCAA',\n",
       "   'exon': 'CAATTGGGCAGATGTGTGAGGCACCTGTGGTGACCCGAGAGTGGGTGTTGGACAGTGTAGCACTCTACCAGTGCCAGGAGCTGGACACCTACCTGATACCCCAGATCCCCCACAGCCACTACTGACTGCAGCCAGCCACAGGTACAGAGCCACAGGACCCCAAGAATGAGCTTACAAAGTGGCCTTTCCAGGCCCTGGGAGCTCCTCTCACTCTTCAGTCCTTCTACTGTCCTGGCTACTAAATATTTTATGTACATCAGCCTGAAAAGGACTTCTGGCTATGCAAGGGTCCCTTAAAGATTTTCTGCTTGAAGTCTCCCTTGGAAATCTGCCATGAGCACAAAATTATGGTAATTTTTCACCTGAGAAGATTTTAAAACCATTTAAACGCCACCAATTGAGCAAGATGCTGATTCATTATTTATCAGCCCTATTCTTTCTATTCAGGCTGTTGTTGGCTTAGGGCTGGAAGCACAGAGTGGCTTGGCCTCAAGAGAATAGCTGGTTTCCCTAAGTTTACTTCTCTAAAACCCTGTGTTCACAAAGGCAGAGAGTCAGACCCTTCAATGGAAGGAGAGTGCTTGGGATCGATTATGTGACTTAAAGTCAGAATAGTCCTTGGGCAGTTCTCAAATGTTGGAGTGGAACATTGGGGAGGAAATTCTGAGGCAGGTATTAGAAATGAAAAGGAAACTTGAAACCTGGGCATGGTGGCTCACGCCTGTAATCCCAGCACTTTGGGAGGCCAAGGTGGGCAGATCACTGGAGGTCAGGAGTTCGAAACCAGCCTGGCCAACATGGTGAAACCCCATCTCTACTAAAAATACAGAAATTAGCCGGTCATGGTGGTGGACACCTGTAATCCCAGCTACTCAGGTGGCTAAGGCAGGAGAATCACTTCAGCCCGGGAGGTGGAGGTTGCAGTGAGCCAAGATCATACCACGGCACTCCAGCCTGGGTGACAGTGAGACTGTGGCTCAAAAAAAAAAAAAAAAAAAGGAAAATGAAACTAGAAGAGATTTCTAAAAGTCTGAGATATATTTGCTAGATTTCTAAAGAATGTGTTCTAAAACAGCAGAAGATTTTCAAGAACCGGTTTCCAAAGACAGTCTTCTAATTCCTCATTAGTAATAAGTAAAATGTTTATTGTTGTAGCTCTGGTATATAATCCATTCCTCTTAAAATATAAGACCTCTGGCATGAATATTTCATATCTATAAAATGACAGATCCCACCAGGAAGGAAGCTGTTGCTTTCTTTGAGGTGATTTTTTTCCTTTGCTCCCTGTTGCTGAAACCATACAGCTTCATAAATAATTTTGCTTGCTGAAGGAAGAAAAAGTGTTTTTCATAAACCCATTATCCAGGACTGTTTATAGCTGTTGGAAGGACTAGGTCTTCCCTAGCCCCCCCAGTGTGCAAGGGCAGTGAAGACTTGATTGTACAAAATACGTTTTGTAAATGTTGTGCTGTTAACACTGCAAATAAACTTGGTAGCAAACACTTCCA',\n",
       "   'donor': 'TTCCANNNNNNNNNNNNN',\n",
       "   'donor_intron': 'NNNNNNNN'},\n",
       "  'mut_seq': {'acceptor_intron': 'CCTAAGAACTCATACAACCAGGACCCTGGAGTCGATTGATTAGAGCCTAGTCCAGGAGAATGAATTGACACTAATCTCTGCTTGTGTTCTCTGT',\n",
       "   'acceptor': 'TCCAGGAGAATGAATTGACACTAATCTCTGCTTGTGTTCTCTGTCTCCAGCAA',\n",
       "   'exon': 'CAATTGTGTGAGGCACCTGTGGTGACCCGAGAGTGGGTGTTGGACAGTGTAGCACTCTACCAGTGCCAGGAGCTGGACACCTACCTGATACCCCAGATCCCCCACAGCCACTACTGACTGCAGCCAGCCACAGGTACAGAGCCACAGGACCCCAAGAATGAGCTTACAAAGTGGCCTTTCCAGGCCCTGGGAGCTCCTCTCACTCTTCAGTCCTTCTACTGTCCTGGCTACTAAATATTTTATGTACATCAGCCTGAAAAGGACTTCTGGCTATGCAAGGGTCCCTTAAAGATTTTCTGCTTGAAGTCTCCCTTGGAAATCTGCCATGAGCACAAAATTATGGTAATTTTTCACCTGAGAAGATTTTAAAACCATTTAAACGCCACCAATTGAGCAAGATGCTGATTCATTATTTATCAGCCCTATTCTTTCTATTCAGGCTGTTGTTGGCTTAGGGCTGGAAGCACAGAGTGGCTTGGCCTCAAGAGAATAGCTGGTTTCCCTAAGTTTACTTCTCTAAAACCCTGTGTTCACAAAGGCAGAGAGTCAGACCCTTCAATGGAAGGAGAGTGCTTGGGATCGATTATGTGACTTAAAGTCAGAATAGTCCTTGGGCAGTTCTCAAATGTTGGAGTGGAACATTGGGGAGGAAATTCTGAGGCAGGTATTAGAAATGAAAAGGAAACTTGAAACCTGGGCATGGTGGCTCACGCCTGTAATCCCAGCACTTTGGGAGGCCAAGGTGGGCAGATCACTGGAGGTCAGGAGTTCGAAACCAGCCTGGCCAACATGGTGAAACCCCATCTCTACTAAAAATACAGAAATTAGCCGGTCATGGTGGTGGACACCTGTAATCCCAGCTACTCAGGTGGCTAAGGCAGGAGAATCACTTCAGCCCGGGAGGTGGAGGTTGCAGTGAGCCAAGATCATACCACGGCACTCCAGCCTGGGTGACAGTGAGACTGTGGCTCAAAAAAAAAAAAAAAAAAAGGAAAATGAAACTAGAAGAGATTTCTAAAAGTCTGAGATATATTTGCTAGATTTCTAAAGAATGTGTTCTAAAACAGCAGAAGATTTTCAAGAACCGGTTTCCAAAGACAGTCTTCTAATTCCTCATTAGTAATAAGTAAAATGTTTATTGTTGTAGCTCTGGTATATAATCCATTCCTCTTAAAATATAAGACCTCTGGCATGAATATTTCATATCTATAAAATGACAGATCCCACCAGGAAGGAAGCTGTTGCTTTCTTTGAGGTGATTTTTTTCCTTTGCTCCCTGTTGCTGAAACCATACAGCTTCATAAATAATTTTGCTTGCTGAAGGAAGAAAAAGTGTTTTTCATAAACCCATTATCCAGGACTGTTTATAGCTGTTGGAAGGACTAGGTCTTCCCTAGCCCCCCCAGTGTGCAAGGGCAGTGAAGACTTGATTGTACAAAATACGTTTTGTAAATGTTGTGCTGTTAACACTGCAAATAAACTTGGTAGCAAACACTTCCACCATGAATGACTGTTCTTGAGACTTAGGCCAGCCGACTTTCTCAGAGCCTTTTCACTGTGCTTCAGTCTCCCACTCTGTAAAATGGGGGTAATGATAGTA',\n",
       "   'donor': 'TAGTANNNNNNNNNNNNN',\n",
       "   'donor_intron': 'NNNNNNNN'}},\n",
       " 'metadata': {'variant': {'CHROM': '17',\n",
       "   'POS': 41197805,\n",
       "   'REF': 'ACATCTGCC',\n",
       "   'ALT': ['A'],\n",
       "   'STR': \"17:41197805:ACATCTGCC:['A']\"},\n",
       "  'exon': {'chrom': '17',\n",
       "   'start': 41196311,\n",
       "   'end': 41197819,\n",
       "   'strand': '-',\n",
       "   'exon_id': 'ENSE00001814242',\n",
       "   'gene_id': 'ENSG00000012048',\n",
       "   'gene_name': 'BRCA1',\n",
       "   'transcript_id': 'ENST00000357654',\n",
       "   'left_overhang': 100,\n",
       "   'right_overhang': 0,\n",
       "   'annotation': '17:41196311-41197819:-'}}}"
      ]
     },
     "execution_count": 4,
     "metadata": {},
     "output_type": "execute_result"
    }
   ],
   "source": [
    "next(dl)"
   ]
  },
  {
   "cell_type": "code",
   "execution_count": 13,
   "metadata": {},
   "outputs": [
    {
     "name": "stderr",
     "output_type": "stream",
     "text": [
      "/home/muhammedhasan/Projects/MMSplice/venv/lib/python3.7/site-packages/keras/engine/saving.py:292: UserWarning: No training configuration found in save file: the model was *not* compiled. Compile it manually.\n",
      "  warnings.warn('No training configuration found in save file: '\n"
     ]
    }
   ],
   "source": [
    "model = MMSplice()"
   ]
  },
  {
   "cell_type": "code",
   "execution_count": 6,
   "metadata": {
    "scrolled": false
   },
   "outputs": [
    {
     "name": "stderr",
     "output_type": "stream",
     "text": [
      "4it [00:13,  2.99s/it]\n"
     ]
    }
   ],
   "source": [
    "dl = SplicingVCFDataloader(gtf, fasta, vcf)\n",
    "\n",
    "predictions = predict_all_table(model, dl, pathogenicity=True, splicing_efficiency=True)"
   ]
  },
  {
   "cell_type": "code",
   "execution_count": 7,
   "metadata": {},
   "outputs": [],
   "source": [
    "predictionsMax = max_varEff(predictions)"
   ]
  },
  {
   "cell_type": "code",
   "execution_count": 8,
   "metadata": {},
   "outputs": [
    {
     "data": {
      "text/html": [
       "<div>\n",
       "<style scoped>\n",
       "    .dataframe tbody tr th:only-of-type {\n",
       "        vertical-align: middle;\n",
       "    }\n",
       "\n",
       "    .dataframe tbody tr th {\n",
       "        vertical-align: top;\n",
       "    }\n",
       "\n",
       "    .dataframe thead th {\n",
       "        text-align: right;\n",
       "    }\n",
       "</style>\n",
       "<table border=\"1\" class=\"dataframe\">\n",
       "  <thead>\n",
       "    <tr style=\"text-align: right;\">\n",
       "      <th></th>\n",
       "      <th>ID</th>\n",
       "      <th>delta_logit_psi</th>\n",
       "      <th>exons</th>\n",
       "      <th>ref_acceptorIntron</th>\n",
       "      <th>ref_acceptor</th>\n",
       "      <th>ref_exon</th>\n",
       "      <th>ref_donor</th>\n",
       "      <th>ref_donorIntron</th>\n",
       "      <th>alt_acceptorIntron</th>\n",
       "      <th>alt_acceptor</th>\n",
       "      <th>alt_exon</th>\n",
       "      <th>alt_donor</th>\n",
       "      <th>alt_donorIntron</th>\n",
       "      <th>pathogenicity</th>\n",
       "      <th>efficiency</th>\n",
       "    </tr>\n",
       "  </thead>\n",
       "  <tbody>\n",
       "    <tr>\n",
       "      <th>717</th>\n",
       "      <td>17:41251568:GTGAGCCACCATGCCTGGCCTCTTTTGCTCCCTT...</td>\n",
       "      <td>-13.142139</td>\n",
       "      <td>17:41251791-41251894:-</td>\n",
       "      <td>-2.928739</td>\n",
       "      <td>1.003448</td>\n",
       "      <td>-3.000968</td>\n",
       "      <td>2.998045</td>\n",
       "      <td>0.683019</td>\n",
       "      <td>-3.894215</td>\n",
       "      <td>-5.617308</td>\n",
       "      <td>-1.16161</td>\n",
       "      <td>-4.262197</td>\n",
       "      <td>0.008081</td>\n",
       "      <td>1.0</td>\n",
       "      <td>-7.652236</td>\n",
       "    </tr>\n",
       "    <tr>\n",
       "      <th>323</th>\n",
       "      <td>17:41219540:CGATTACAGGCATGCGCCACCGTGCCTCGCCTCA...</td>\n",
       "      <td>-12.980691</td>\n",
       "      <td>17:41219624-41219712:-</td>\n",
       "      <td>-2.256955</td>\n",
       "      <td>4.854000</td>\n",
       "      <td>-4.449435</td>\n",
       "      <td>2.749682</td>\n",
       "      <td>0.218514</td>\n",
       "      <td>-2.898835</td>\n",
       "      <td>-6.655025</td>\n",
       "      <td>-1.16161</td>\n",
       "      <td>-3.431215</td>\n",
       "      <td>-0.198021</td>\n",
       "      <td>1.0</td>\n",
       "      <td>-6.342944</td>\n",
       "    </tr>\n",
       "    <tr>\n",
       "      <th>503</th>\n",
       "      <td>17:41232465:TGGCCTCCCAAAGTGCTGGGGTTACAGGCGTGAG...</td>\n",
       "      <td>-12.446247</td>\n",
       "      <td>17:41234420-41234592:-</td>\n",
       "      <td>-2.337047</td>\n",
       "      <td>0.198098</td>\n",
       "      <td>-3.064758</td>\n",
       "      <td>3.751723</td>\n",
       "      <td>0.509226</td>\n",
       "      <td>-3.498240</td>\n",
       "      <td>-5.302096</td>\n",
       "      <td>-1.16161</td>\n",
       "      <td>-2.475021</td>\n",
       "      <td>-0.310342</td>\n",
       "      <td>1.0</td>\n",
       "      <td>-5.989502</td>\n",
       "    </tr>\n",
       "    <tr>\n",
       "      <th>681</th>\n",
       "      <td>17:41248754:ATTTTCATCAGTCACAATTACTGCTGTGTCAATA...</td>\n",
       "      <td>-11.353837</td>\n",
       "      <td>17:41249260-41249306:-</td>\n",
       "      <td>-2.896458</td>\n",
       "      <td>0.525802</td>\n",
       "      <td>-3.411850</td>\n",
       "      <td>4.421351</td>\n",
       "      <td>0.797147</td>\n",
       "      <td>-3.806159</td>\n",
       "      <td>-6.966350</td>\n",
       "      <td>-1.16161</td>\n",
       "      <td>-3.872047</td>\n",
       "      <td>0.715352</td>\n",
       "      <td>1.0</td>\n",
       "      <td>-8.457780</td>\n",
       "    </tr>\n",
       "    <tr>\n",
       "      <th>539</th>\n",
       "      <td>17:41242891:GTGGGATACATACTACTGAATGCAAAGGACACCA...</td>\n",
       "      <td>-11.322243</td>\n",
       "      <td>17:41242960-41243049:-</td>\n",
       "      <td>-3.370246</td>\n",
       "      <td>4.042363</td>\n",
       "      <td>-3.705677</td>\n",
       "      <td>3.972384</td>\n",
       "      <td>0.524251</td>\n",
       "      <td>-2.947957</td>\n",
       "      <td>-5.811146</td>\n",
       "      <td>-1.16161</td>\n",
       "      <td>-4.428016</td>\n",
       "      <td>0.385194</td>\n",
       "      <td>1.0</td>\n",
       "      <td>-9.122525</td>\n",
       "    </tr>\n",
       "  </tbody>\n",
       "</table>\n",
       "</div>"
      ],
      "text/plain": [
       "                                                    ID  delta_logit_psi  \\\n",
       "717  17:41251568:GTGAGCCACCATGCCTGGCCTCTTTTGCTCCCTT...       -13.142139   \n",
       "323  17:41219540:CGATTACAGGCATGCGCCACCGTGCCTCGCCTCA...       -12.980691   \n",
       "503  17:41232465:TGGCCTCCCAAAGTGCTGGGGTTACAGGCGTGAG...       -12.446247   \n",
       "681  17:41248754:ATTTTCATCAGTCACAATTACTGCTGTGTCAATA...       -11.353837   \n",
       "539  17:41242891:GTGGGATACATACTACTGAATGCAAAGGACACCA...       -11.322243   \n",
       "\n",
       "                      exons  ref_acceptorIntron  ref_acceptor  ref_exon  \\\n",
       "717  17:41251791-41251894:-           -2.928739      1.003448 -3.000968   \n",
       "323  17:41219624-41219712:-           -2.256955      4.854000 -4.449435   \n",
       "503  17:41234420-41234592:-           -2.337047      0.198098 -3.064758   \n",
       "681  17:41249260-41249306:-           -2.896458      0.525802 -3.411850   \n",
       "539  17:41242960-41243049:-           -3.370246      4.042363 -3.705677   \n",
       "\n",
       "     ref_donor  ref_donorIntron  alt_acceptorIntron  alt_acceptor  alt_exon  \\\n",
       "717   2.998045         0.683019           -3.894215     -5.617308  -1.16161   \n",
       "323   2.749682         0.218514           -2.898835     -6.655025  -1.16161   \n",
       "503   3.751723         0.509226           -3.498240     -5.302096  -1.16161   \n",
       "681   4.421351         0.797147           -3.806159     -6.966350  -1.16161   \n",
       "539   3.972384         0.524251           -2.947957     -5.811146  -1.16161   \n",
       "\n",
       "     alt_donor  alt_donorIntron  pathogenicity  efficiency  \n",
       "717  -4.262197         0.008081            1.0   -7.652236  \n",
       "323  -3.431215        -0.198021            1.0   -6.342944  \n",
       "503  -2.475021        -0.310342            1.0   -5.989502  \n",
       "681  -3.872047         0.715352            1.0   -8.457780  \n",
       "539  -4.428016         0.385194            1.0   -9.122525  "
      ]
     },
     "execution_count": 8,
     "metadata": {},
     "output_type": "execute_result"
    }
   ],
   "source": [
    "predictionsMax.sort_values(['delta_logit_psi']).head()"
   ]
  },
  {
   "cell_type": "markdown",
   "metadata": {},
   "source": [
    "If mmsplice `deltalogitPSI` of a variant is bigger than 2 or smaller -2 if is likely to have effect on splicing."
   ]
  },
  {
   "cell_type": "code",
   "execution_count": 9,
   "metadata": {},
   "outputs": [
    {
     "data": {
      "text/plain": [
       "<matplotlib.axes._subplots.AxesSubplot at 0x7fe5d444ec88>"
      ]
     },
     "execution_count": 9,
     "metadata": {},
     "output_type": "execute_result"
    },
    {
     "data": {
      "image/png": "[encoded data removed]",
      "text/plain": [
       "<Figure size 432x288 with 1 Axes>"
      ]
     },
     "metadata": {
      "needs_background": "light"
     },
     "output_type": "display_data"
    }
   ],
   "source": [
    "import matplotlib.pyplot as plt\n",
    "\n",
    "plt.axvline(x=2, color='r')\n",
    "plt.axvline(x=-2, color='r')\n",
    "\n",
    "predictions['delta_logit_psi'].hist(bins=20)"
   ]
  },
  {
   "cell_type": "markdown",
   "metadata": {},
   "source": [
    "For huge vcf files, output is writen to csv file on batch predictions."
   ]
  },
  {
   "cell_type": "code",
   "execution_count": 10,
   "metadata": {},
   "outputs": [
    {
     "name": "stderr",
     "output_type": "stream",
     "text": [
      "4it [00:12,  2.80s/it]\n"
     ]
    }
   ],
   "source": [
    "dl = SplicingVCFDataloader(gtf, fasta, vcf)\n",
    "predict_save(model, dl, output_csv='pred.csv', pathogenicity=True, splicing_efficiency=True)"
   ]
  },
  {
   "cell_type": "code",
   "execution_count": 11,
   "metadata": {},
   "outputs": [
    {
     "name": "stdout",
     "output_type": "stream",
     "text": [
      "ID,exons,delta_logit_psi,ref_acceptorIntron,ref_acceptor,ref_exon,ref_donor,ref_donorIntron,alt_acceptorIntron,alt_acceptor,alt_exon,alt_donor,alt_donorIntron,pathogenicity,efficiency\r\n",
      "17:41197805:ACATCTGCC:['A'],17:41196311-41197819:-,-0.3074603232906171,-2.9240594,5.0689387,-4.191132,-3.1975443,0.10508263,-2.9240594,5.0689387,-4.212151,-3.584379,0.10508263,0.972476113377728,-0.5597015069789752\r\n",
      "17:41197805:ACATCTGCC:['A'],17:41196312-41197819:-,-0.15589666909537683,-2.9240594,5.0689387,-4.190762,-2.977995,0.10508263,-2.9240594,5.0689387,-4.2086678,-3.1663177,0.10508263,0.9484773530212034,-0.3474528416754708\r\n",
      "17:41197805:ACATCTGCC:['A'],17:41196821-41197819:-,-0.8039740952751052,-2.9240594,5.0689387,-3.8693066,-2.1827195,0.10508263,-2.9240594,5.0689387,-3.857884,-3.2683797,0.10508263,0.992388313731282,-1.238352651735897\r\n",
      "17:41197805:ACATCTGCC:['A'],17:41197579-41197819:-,-0.05815466856165973,-2.9240594,5.0689387,-3.507481,-3.032851,0.10508263,-2.9240594,5.0689387,-3.5461497,-3.067249,0.10508263,0.920019382104731,-0.21947403327937445\r\n",
      "17:41197805:ACATCTGCC:['A'],17:41197645-41197819:-,0.35461128343308423,-2.9240594,5.0689387,-3.6942868,-3.278372,0.10508263,-2.9240594,5.0689387,-3.6157413,-2.8958552,0.10508263,0.8194501061438743,0.4010525684923092\r\n",
      "17:41197805:ACATCTGCC:['A'],17:41197694-41197819:-,0.2974775922424316,-2.9240594,5.0689387,-3.9611068,-3.1458025,0.10508263,-2.9240594,5.0689387,-3.5574937,-3.2092829,0.10508263,0.9414207310850116,0.44853266631988553\r\n",
      "17:41197809:CTGCCCAAT:['C'],17:41196311-41197819:-,-0.5182894949228101,-2.9240594,5.0689387,-4.191132,-3.1975443,0.10508263,-2.9240594,4.7664943,-4.202885,-3.584379,0.10508263,0.9903309085246682,-0.6753222654394962\r\n",
      "17:41197809:CTGCCCAAT:['C'],17:41196312-41197819:-,-0.36672095748037137,-2.9240594,5.0689387,-4.190762,-2.977995,0.10508263,-2.9240594,4.7664943,-4.199396,-3.1663177,0.10508263,0.9816057530739777,-0.4630645647871467\r\n",
      "17:41197809:CTGCCCAAT:['C'],17:41196821-41197819:-,-1.011102986342699,-2.9240594,5.0689387,-3.8693066,-2.1827195,0.10508263,-2.9240594,4.7664943,-3.8442822,-3.2683797,0.10508263,0.9973647596993257,-1.347126874608973\r\n"
     ]
    }
   ],
   "source": [
    "! head pred.csv"
   ]
  }
 ],
 "metadata": {
  "kernelspec": {
   "display_name": "Python 3",
   "language": "python",
   "name": "python3"
  },
  "language_info": {
   "codemirror_mode": {
    "name": "ipython",
    "version": 3
   },
   "file_extension": ".py",
   "mimetype": "text/x-python",
   "name": "python",
   "nbconvert_exporter": "python",
   "pygments_lexer": "ipython3",
   "version": "3.7.1"
  }
 },
 "nbformat": 4,
 "nbformat_minor": 2
}
